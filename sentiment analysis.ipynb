{
 "cells": [
  {
   "cell_type": "code",
   "execution_count": 1,
   "id": "be901866-aba1-48be-ba00-2920c02e05a3",
   "metadata": {},
   "outputs": [],
   "source": [
    "import pandas as pd"
   ]
  },
  {
   "cell_type": "code",
   "execution_count": 2,
   "id": "8d231c0a-04b6-41c9-aaf2-8e2dab976be3",
   "metadata": {},
   "outputs": [],
   "source": [
    "df = pd.read_csv(\"ford_car_reviews.csv\",nrows=25)"
   ]
  },
  {
   "cell_type": "code",
   "execution_count": 3,
   "id": "359122fa-b1b9-41ca-ae07-a357ddb1a90c",
   "metadata": {},
   "outputs": [
    {
     "data": {
      "text/html": [
       "<div>\n",
       "<style scoped>\n",
       "    .dataframe tbody tr th:only-of-type {\n",
       "        vertical-align: middle;\n",
       "    }\n",
       "\n",
       "    .dataframe tbody tr th {\n",
       "        vertical-align: top;\n",
       "    }\n",
       "\n",
       "    .dataframe thead th {\n",
       "        text-align: right;\n",
       "    }\n",
       "</style>\n",
       "<table border=\"1\" class=\"dataframe\">\n",
       "  <thead>\n",
       "    <tr style=\"text-align: right;\">\n",
       "      <th></th>\n",
       "      <th>Unnamed: 0</th>\n",
       "      <th>Review_Date</th>\n",
       "      <th>Author_Name</th>\n",
       "      <th>Vehicle_Title</th>\n",
       "      <th>Review_Title</th>\n",
       "      <th>Review</th>\n",
       "      <th>Rating</th>\n",
       "    </tr>\n",
       "  </thead>\n",
       "  <tbody>\n",
       "    <tr>\n",
       "      <th>0</th>\n",
       "      <td>0</td>\n",
       "      <td>on 06/06/18 14:19 PM (PDT)</td>\n",
       "      <td>Vicki</td>\n",
       "      <td>2006 Ford Mustang Coupe GT Premium 2dr Coupe (...</td>\n",
       "      <td>2006 Mustang GT</td>\n",
       "      <td>Doesn’t disappoint</td>\n",
       "      <td>5.0</td>\n",
       "    </tr>\n",
       "    <tr>\n",
       "      <th>1</th>\n",
       "      <td>1</td>\n",
       "      <td>on 08/12/17 06:06 AM (PDT)</td>\n",
       "      <td>Tom</td>\n",
       "      <td>2006 Ford Mustang Coupe V6 Standard 2dr Coupe ...</td>\n",
       "      <td>DREAM CAR</td>\n",
       "      <td>I bought mine 4/17 with 98K. Have been wantin...</td>\n",
       "      <td>3.0</td>\n",
       "    </tr>\n",
       "    <tr>\n",
       "      <th>2</th>\n",
       "      <td>2</td>\n",
       "      <td>on 06/15/17 05:43 AM (PDT)</td>\n",
       "      <td>Ray</td>\n",
       "      <td>2006 Ford Mustang Coupe V6 Premium 2dr Coupe (...</td>\n",
       "      <td>Great Ride</td>\n",
       "      <td>There will always be a 05-09 mustang for sale...</td>\n",
       "      <td>5.0</td>\n",
       "    </tr>\n",
       "    <tr>\n",
       "      <th>3</th>\n",
       "      <td>3</td>\n",
       "      <td>on 05/18/17 17:33 PM (PDT)</td>\n",
       "      <td>Don Watson</td>\n",
       "      <td>2006 Ford Mustang Coupe V6 Deluxe 2dr Coupe (4...</td>\n",
       "      <td>I have wanted a Mustang for 40 years.</td>\n",
       "      <td>I bought my car from an auction I work at ( A...</td>\n",
       "      <td>5.0</td>\n",
       "    </tr>\n",
       "    <tr>\n",
       "      <th>4</th>\n",
       "      <td>4</td>\n",
       "      <td>on 01/03/16 18:03 PM (PST)</td>\n",
       "      <td>One owner</td>\n",
       "      <td>2006 Ford Mustang Coupe GT Premium 2dr Coupe (...</td>\n",
       "      <td>One owner</td>\n",
       "      <td>I bought this car spankin new and i still am ...</td>\n",
       "      <td>5.0</td>\n",
       "    </tr>\n",
       "  </tbody>\n",
       "</table>\n",
       "</div>"
      ],
      "text/plain": [
       "   Unnamed: 0                  Review_Date  Author_Name  \\\n",
       "0           0   on 06/06/18 14:19 PM (PDT)       Vicki    \n",
       "1           1   on 08/12/17 06:06 AM (PDT)         Tom    \n",
       "2           2   on 06/15/17 05:43 AM (PDT)         Ray    \n",
       "3           3   on 05/18/17 17:33 PM (PDT)  Don Watson    \n",
       "4           4   on 01/03/16 18:03 PM (PST)   One owner    \n",
       "\n",
       "                                       Vehicle_Title  \\\n",
       "0  2006 Ford Mustang Coupe GT Premium 2dr Coupe (...   \n",
       "1  2006 Ford Mustang Coupe V6 Standard 2dr Coupe ...   \n",
       "2  2006 Ford Mustang Coupe V6 Premium 2dr Coupe (...   \n",
       "3  2006 Ford Mustang Coupe V6 Deluxe 2dr Coupe (4...   \n",
       "4  2006 Ford Mustang Coupe GT Premium 2dr Coupe (...   \n",
       "\n",
       "                            Review_Title  \\\n",
       "0                        2006 Mustang GT   \n",
       "1                              DREAM CAR   \n",
       "2                             Great Ride   \n",
       "3  I have wanted a Mustang for 40 years.   \n",
       "4                              One owner   \n",
       "\n",
       "                                              Review  Rating  \n",
       "0                                 Doesn’t disappoint     5.0  \n",
       "1   I bought mine 4/17 with 98K. Have been wantin...     3.0  \n",
       "2   There will always be a 05-09 mustang for sale...     5.0  \n",
       "3   I bought my car from an auction I work at ( A...     5.0  \n",
       "4   I bought this car spankin new and i still am ...     5.0  "
      ]
     },
     "execution_count": 3,
     "metadata": {},
     "output_type": "execute_result"
    }
   ],
   "source": [
    "df.head()"
   ]
  },
  {
   "cell_type": "code",
   "execution_count": 4,
   "id": "990af41e-991e-4d00-ac61-375ec2a20c9f",
   "metadata": {},
   "outputs": [],
   "source": [
    "df.drop(\"Unnamed: 0\",axis=1,inplace=True)"
   ]
  },
  {
   "cell_type": "code",
   "execution_count": 5,
   "id": "dd89380b-3ede-46e0-b8b0-6e179f49259f",
   "metadata": {},
   "outputs": [
    {
     "data": {
      "text/html": [
       "<div>\n",
       "<style scoped>\n",
       "    .dataframe tbody tr th:only-of-type {\n",
       "        vertical-align: middle;\n",
       "    }\n",
       "\n",
       "    .dataframe tbody tr th {\n",
       "        vertical-align: top;\n",
       "    }\n",
       "\n",
       "    .dataframe thead th {\n",
       "        text-align: right;\n",
       "    }\n",
       "</style>\n",
       "<table border=\"1\" class=\"dataframe\">\n",
       "  <thead>\n",
       "    <tr style=\"text-align: right;\">\n",
       "      <th></th>\n",
       "      <th>Review_Date</th>\n",
       "      <th>Author_Name</th>\n",
       "      <th>Vehicle_Title</th>\n",
       "      <th>Review_Title</th>\n",
       "      <th>Review</th>\n",
       "      <th>Rating</th>\n",
       "    </tr>\n",
       "  </thead>\n",
       "  <tbody>\n",
       "    <tr>\n",
       "      <th>0</th>\n",
       "      <td>on 06/06/18 14:19 PM (PDT)</td>\n",
       "      <td>Vicki</td>\n",
       "      <td>2006 Ford Mustang Coupe GT Premium 2dr Coupe (...</td>\n",
       "      <td>2006 Mustang GT</td>\n",
       "      <td>Doesn’t disappoint</td>\n",
       "      <td>5.0</td>\n",
       "    </tr>\n",
       "    <tr>\n",
       "      <th>1</th>\n",
       "      <td>on 08/12/17 06:06 AM (PDT)</td>\n",
       "      <td>Tom</td>\n",
       "      <td>2006 Ford Mustang Coupe V6 Standard 2dr Coupe ...</td>\n",
       "      <td>DREAM CAR</td>\n",
       "      <td>I bought mine 4/17 with 98K. Have been wantin...</td>\n",
       "      <td>3.0</td>\n",
       "    </tr>\n",
       "    <tr>\n",
       "      <th>2</th>\n",
       "      <td>on 06/15/17 05:43 AM (PDT)</td>\n",
       "      <td>Ray</td>\n",
       "      <td>2006 Ford Mustang Coupe V6 Premium 2dr Coupe (...</td>\n",
       "      <td>Great Ride</td>\n",
       "      <td>There will always be a 05-09 mustang for sale...</td>\n",
       "      <td>5.0</td>\n",
       "    </tr>\n",
       "    <tr>\n",
       "      <th>3</th>\n",
       "      <td>on 05/18/17 17:33 PM (PDT)</td>\n",
       "      <td>Don Watson</td>\n",
       "      <td>2006 Ford Mustang Coupe V6 Deluxe 2dr Coupe (4...</td>\n",
       "      <td>I have wanted a Mustang for 40 years.</td>\n",
       "      <td>I bought my car from an auction I work at ( A...</td>\n",
       "      <td>5.0</td>\n",
       "    </tr>\n",
       "    <tr>\n",
       "      <th>4</th>\n",
       "      <td>on 01/03/16 18:03 PM (PST)</td>\n",
       "      <td>One owner</td>\n",
       "      <td>2006 Ford Mustang Coupe GT Premium 2dr Coupe (...</td>\n",
       "      <td>One owner</td>\n",
       "      <td>I bought this car spankin new and i still am ...</td>\n",
       "      <td>5.0</td>\n",
       "    </tr>\n",
       "  </tbody>\n",
       "</table>\n",
       "</div>"
      ],
      "text/plain": [
       "                   Review_Date  Author_Name  \\\n",
       "0   on 06/06/18 14:19 PM (PDT)       Vicki    \n",
       "1   on 08/12/17 06:06 AM (PDT)         Tom    \n",
       "2   on 06/15/17 05:43 AM (PDT)         Ray    \n",
       "3   on 05/18/17 17:33 PM (PDT)  Don Watson    \n",
       "4   on 01/03/16 18:03 PM (PST)   One owner    \n",
       "\n",
       "                                       Vehicle_Title  \\\n",
       "0  2006 Ford Mustang Coupe GT Premium 2dr Coupe (...   \n",
       "1  2006 Ford Mustang Coupe V6 Standard 2dr Coupe ...   \n",
       "2  2006 Ford Mustang Coupe V6 Premium 2dr Coupe (...   \n",
       "3  2006 Ford Mustang Coupe V6 Deluxe 2dr Coupe (4...   \n",
       "4  2006 Ford Mustang Coupe GT Premium 2dr Coupe (...   \n",
       "\n",
       "                            Review_Title  \\\n",
       "0                        2006 Mustang GT   \n",
       "1                              DREAM CAR   \n",
       "2                             Great Ride   \n",
       "3  I have wanted a Mustang for 40 years.   \n",
       "4                              One owner   \n",
       "\n",
       "                                              Review  Rating  \n",
       "0                                 Doesn’t disappoint     5.0  \n",
       "1   I bought mine 4/17 with 98K. Have been wantin...     3.0  \n",
       "2   There will always be a 05-09 mustang for sale...     5.0  \n",
       "3   I bought my car from an auction I work at ( A...     5.0  \n",
       "4   I bought this car spankin new and i still am ...     5.0  "
      ]
     },
     "execution_count": 5,
     "metadata": {},
     "output_type": "execute_result"
    }
   ],
   "source": [
    "df.head()"
   ]
  },
  {
   "cell_type": "code",
   "execution_count": 8,
   "id": "48548a01-8264-4b9e-9967-070f5c33379f",
   "metadata": {},
   "outputs": [
    {
     "name": "stdin",
     "output_type": "stream",
     "text": [
      "GROQ API Key:  ········\n"
     ]
    }
   ],
   "source": [
    "import os, json, re, getpass\n",
    "from dotenv import load_dotenv\n",
    "\n",
    "load_dotenv(\".env\", override=True)\n",
    "if \"GROQ_API_KEY\" not in os.environ:\n",
    "    os.environ[\"GROQ_API_KEY\"] = getpass.getpass(\"GROQ API Key: \")"
   ]
  },
  {
   "cell_type": "code",
   "execution_count": 9,
   "id": "95a57275-475e-479e-b362-7a4ead681f05",
   "metadata": {},
   "outputs": [],
   "source": [
    "from langchain.prompts import ChatPromptTemplate\n",
    "from langchain.chains import LLMChain\n",
    "from langchain_groq import ChatGroq"
   ]
  },
  {
   "cell_type": "code",
   "execution_count": 10,
   "id": "517aee78-879d-43d0-ba2e-20930ba60548",
   "metadata": {},
   "outputs": [],
   "source": [
    "# Step 1: Initialize the model\n",
    "model_id = \"llama3-8b-8192\"\n",
    "llm = ChatGroq(model_name=model_id, temperature=0)"
   ]
  },
  {
   "cell_type": "code",
   "execution_count": 32,
   "id": "ce75e6c9-c73d-46a2-b0a7-0167e965f5db",
   "metadata": {},
   "outputs": [],
   "source": [
    "# Step 2: Create the ChatPromptTemplate with specific instructions\n",
    "system_message = \"\"\"\n",
    "You are a sentiment analysis model. Classify the sentiment of the following review into one of the following categories:\n",
    "- Positive\n",
    "- Negative\n",
    "- Neutral\n",
    "Return only one of these words (Positive, Negative, Neutral) as the sentiment.\n",
    "\"\"\"\n",
    "human_message = \"{review}\"\n",
    "\n",
    "prompt = ChatPromptTemplate.from_messages([\n",
    "    (\"system\", system_message),\n",
    "    (\"human\", human_message)\n",
    "])"
   ]
  },
  {
   "cell_type": "code",
   "execution_count": 33,
   "id": "46a8a207-6a4d-4cdb-b696-dbd52043f78d",
   "metadata": {},
   "outputs": [],
   "source": [
    "# Step 3: Create the LCEL Chain\n",
    "llm_chain = LLMChain(prompt=prompt, llm=llm)"
   ]
  },
  {
   "cell_type": "code",
   "execution_count": 34,
   "id": "94e7abd5-dbf3-4d47-b6c8-96ef214b728e",
   "metadata": {},
   "outputs": [],
   "source": [
    "# Step 4: Function to classify sentiment\n",
    "def classify_sentiment(review):\n",
    "    response = llm_chain.invoke({\"review\": review})\n",
    "    print(response)  # Inspect the response to understand its structure\n",
    "    sentiment = response.get('text', '').strip()  # Extract sentiment from response\n",
    "    # Ensure only the three valid outputs are returned\n",
    "    if sentiment.lower() not in ['positive', 'negative', 'neutral']:\n",
    "        sentiment = 'Neutral'  # Default to 'Neutral' if unexpected response\n",
    "    return sentiment"
   ]
  },
  {
   "cell_type": "code",
   "execution_count": 35,
   "id": "4dca1fac-6dd8-42a9-a298-6d1f0fa2c514",
   "metadata": {},
   "outputs": [
    {
     "name": "stdout",
     "output_type": "stream",
     "text": [
      "Index(['Review_Date', 'Author_Name', 'Vehicle_Title', 'Review_Title', 'Review',\n",
      "       'Rating', 'sentiment'],\n",
      "      dtype='object')\n"
     ]
    }
   ],
   "source": [
    "print(df.columns)"
   ]
  },
  {
   "cell_type": "code",
   "execution_count": 36,
   "id": "ac8840b8-bdc8-4731-90fc-e2cf3b3f05ed",
   "metadata": {},
   "outputs": [
    {
     "name": "stdout",
     "output_type": "stream",
     "text": [
      "{'review': ' Doesn’t disappoint', 'text': 'Neutral'}\n",
      "{'review': ' I bought mine 4/17 with 98K. Have been wanting a V6 5-sp, \\'05-\\'09 vintage for years. The engine is fine. Sounds good. Great mileage. Good power. I pride myself on smooth take-off and gear changes, but this is the orneriest transmission I\\'ve ever used! The difference between idle and 4000 rpm is about 1/8\" on the gas pedal, so starting-out without either stalling or way over-revving takes a LOT of finesse. Gear changes are very difficult to master smoothly without lurching. The ride is very harsh with a lot of road noise, which I suppose goes with a quasi high-performance car. My \\'01 S-10 is quieter and smoother. All that said, it\\'s a smokin\\' hot looking car, and still fun to drive. This was the first-off of the modern \\'Stangs. Hopefully these problems have been ironed-out since.', 'text': 'Negative'}\n",
      "{'review': ' There will always be a 05-09 mustang for sale and their fairly reasonable. Purchased mine as second car and I believe it was a great investment', 'text': 'Positive'}\n",
      "{'review': ' I bought my car from an auction I work at ( Adesa Sacramento ) and I love it!! It is a v6 with an air aid cold air injector, throttle body spacer and a Flowmaster exhaust. The previous owner also added blacked out 17 inch factory rims. This beast will smoke any G6 or v6 camaro out there.... If you can buy a base model and do the bolt on stuff yourself do it!!!!', 'text': 'Positive'}\n",
      "{'review': ' I bought this car spankin new and i still am In love with this car.  This car hugs the road and does whatever you ask at a moments notice.   The only thing I have had to fix is the alternator.   Of course there are repairs like tires and brakes. This car has gone all these years and no mechanical breakdown!   How many cars can you say that about?This car is GREAT!', 'text': 'Positive'}\n",
      "{'review': ' Lots of problems with Ford these days, sensors issues, cam phasers, and got solenoid problems.', 'text': 'Negative'}\n",
      "{'review': ' Bought mine used 20k on it and have added a SCT tuner with Ford CAI and Flow master mufflers.I get 19.5 mpg in town and 24.5 mpg highway onregular 87 octane gas with normal driving. No major mechanical issues to report and have taken several long road trips in it with good comfort. The mustang GT offers great bang for the buck performance and decent fuel economy. The car is easy to work on for all the do it your self guys and gals. Would I buy a mustang again you betcha... ', 'text': 'Positive'}\n",
      "{'review': \" I bought my preowned 06 a few weeks back and am very glad I did. Screaming Yellow, car had some upgrades from previous owner (Airaid air filter system, Flowmaster exaust) It's about 360 horses of extreme fun. Although the car had 51K on it, Honda dealer included 3 year 36K bumper to bumper waurranty, and I plan to get the best out of those 36,000 miles. At 45 it was a mid-life crisis the wife even agreed with. LOL\", 'text': 'Positive'}\n",
      "{'review': \" I drive 50 miles each way to work and traded my 01 accord for a 06 mustand in 2008. Well 80k miles later the engine starts having this knocking noise and significant loss of power and not because I don't take care of my car as I changed my oil every 3K miles and keep it very well maintained. After Ford looked at the car they quoted me $4,100 to fix what they called a cam phaser issue (pumps oil to the top end of the motor). Needless to say I pulled the car from Ford and took to a performance shop, who said it needed a new motor for $4,800. Well thats great but this is not my toy its my daily driver. Long story short before you buy research cam phasers this appears to be an issue in many Ford\", 'text': 'Negative'}\n",
      "{'review': \" This car is just awesome.  The 4.6L V8 makes the car, and the stock exhaust has a nice rumble to it that screams when you mash the pedal to the floor.  I've had the car for 2 years and have about 52,000 miles on her with zero problems.  For the price, you really can't beat it either (16300 in 2009 with 33k miles). Its faster, better looking, and really just more of a car than any used BMW/mercedes within its pricing segment.  The only comparable competitor in the used car market this years Mustang has is in the 350z, which handles better but lacks in practicality.  And on top of that, the Z doesn't sound as good as the 8 and after test driving could be a nightmare as a daily driver\", 'text': 'Positive'}\n",
      "{'review': \" Only had car for one week and this car put the fun back into driving.Even though it's a V6 it still get up and goes.I love the way it handles and turns heads.\", 'text': 'Positive'}\n",
      "{'review': \" Previous mustang owner (1980) and have had a serious stalking issue with this car since Ford introduced the '05 model.  I don't care too much for the look of the 09-11 models, and recently found an '06 and bought it from the original owner.  He drove it a lot (70k miles), but took good care of it and she looks sweet.  So much fun to drive and decent gas mileage too.       \", 'text': 'Positive'}\n",
      "{'review': ' I drive a lot of miles, at least 150/day.  I just had the water pump replaced at 166,000 miles and decided it was time to do the rest of the maintenance that I have neglected for the last 5 years.  I changed the oil regularly with Mobil 1 and changed the brakes when necessary.  Other than that everything has always worked perfectly.  I replaced the spark plugs at 140,000 miles just because.  The originals still looked good, just needed a gap adjustment.', 'text': 'Positive'}\n",
      "{'review': \" I purchased this Horsey in memory of my dad, Max M. Kruger a design engineer and an original member of the Mustang design team under Lee Iaccoca at Ford.  Compared to my 2 previous '73 Mach I joys, this Steed is more stealthy, has greater visibility and obviously more technologically refined. Had only one real issue with her.  The trip meter occasionally zero's itself even after extensive dealer repairs and tech help from Ford. Yes a few rattles. Also needed a new battery due to Florida heat. Got a set of General Ulimax HP tires and they are the best I ever owned. I'm not sure which I like better, watching my wife drive off in her, me driving us, or just looking at her.  Max Lives!\", 'text': 'Positive'}\n",
      "{'review': \" Dash board rattles, dealer couldn't fix it, filed lemon law got $2000 from Ford. Brake pads & rotors went at 12,000 miles witch is unheard of, $600- $800 job. Replaced bat after 3 yrs which is norm. Replaced fuel filter which is recommended. Rear brake bulbs have been replaced about 4 times (easy to do yourself though) other then that nothing major has gone wrong. I drive 12,000 a year, some highway road trips and still drives great.\", 'text': 'Negative'}\n",
      "{'review': \" I drive very little (about 5k miles per year), but when I do i like to wring it out around town, on the highway, and twisty back-country roads.  This car handles them all very well.  Haven't had any real issues, and have kept up with scheduled maintenance.  I did have a transmission pan leak which was repaired by a dealer; a few months later it was leaking again and the dealer fixed it again (free as was still under warr. then).  I have an extended warranty for peace of mind but don't anticipate needing it.  There has always been a little squeak near the gauge cluster, which I meant to get fixed but it hasn't bothered me enough to do so.\", 'text': 'Neutral'}\n",
      "{'review': ' This was my first new car purchase and I really liked it at first....Untill everyone in Oklahoma city bought one. Atleast there will be pleanty around to pull parts of in the salvage yard. Guys and gals, this car is what it is plus a tiny, tiny bit more..... It\\'s a (new) $20,000 sports car. I do actually love mine and it runs great but I can see it going to pieces not too far down the road. It\\'s starting to rattle a little much and the two \"subs\" in the door aren\\'t subs.... Subs are made to play mounted in a box, not mounted in a door but hats off to ford for at least trying to be hip. ', 'text': 'Negative'}\n",
      "{'review': ' Nice styling car and fun to drive when it is not heading back to dealership for unending mystery electrical problems.  I have had to many problems with this car to ever want another sports car again.  Couple that with a dealership that wants to nickel and dime you on warranty work makes for bad Ford business.  Not a practical car to own in the winter time in Colorado Springs.    ', 'text': 'Negative'}\n",
      "{'review': \" I was exceptionally impressed with the down and dirty V6.  The Chevy Monte Carlo LT and SS Intimidator have nothing on the 4.0 stock!! I bought an 06 5-speed Pony Edition before I went to college.  It's about 8 months later and the throttle body is havin issues, killing the car about every 30 miles.  The clutch is slipping already, not impressed with that.  The Shaker 500 is really nice, don't crank it too loud though.  The amp for the stereo runs down the factory battery like no other.  It's reliable as heck until the engine starts acting up.  Had the system checked, so I know its the throttle body.  For a car that is four years old, the clutch and induction should not be having trouble.\", 'text': 'Negative'}\n",
      "{'review': ' I purchased the Mustang new with every option you could get on the V6 Premium Cpe including \"Pony Package\".  It\\'s the first American car I\\'ve bought in 20 years.  Great looking car with a very stiff ride and lots of rattles.  At 30k service, it needed an Alternator and a battery. All things considered, I like the car sans the rattles which the dealer has been unable to fix.  I have a 20 year old toyota with out any rattles!', 'text': 'Negative'}\n",
      "{'review': \" 09/23/06 I financed a '06 Mustang GT, my 1st new car. Previously my family and I have had about 10 Fords. after 6 mos. the car stalled out, I didnt think anything of it. In'07 the problem became more noticeable I also had the battery replace twice. The alternator and L/F headlight (water). In'08 the problem became more frequent stalling between 30-40mph. The dealer couldnt find thr problem after frequent visits. In Feb.'09 I was going to trade it in for a used '08 Shelby GT500. The deal fell apart when the belt kept tearing. Took it to another dealer and was told crank was bad, waited 2 mos. to have engine rebuilt. called cust.service they're very nasty. Lemon law,govt agencies,legal no help\", 'text': 'Negative'}\n",
      "{'review': \" This car is a blast. I purchased my 06' Performance White GT Premium about 4 months ago. It drives like a dream, its everything I ever imagined. I wanted one since the day it came out and I'm not sorry for the purchase. I get a lot of compliments. So far I have not had any problems what so ever. I have taken it to the Ford dealership I purchased it from for oil changes and everytime so far everything has been 100%\", 'text': 'Positive'}\n",
      "{'review': \" I love to drive the car and to look at the car.  I have had problems with the battery draining.  I've jumped it 5 times.  I've also had problems with the driver side window.  I had to take it to the dealership 2 times for the same issue.  The 3rd time it was out of warranty and the dealership didn't want to take ownership of the problem.\", 'text': 'Negative'}\n",
      "{'review': \" It's noisy. It rides rough.  It's uncomfortable on long trips.  It's great on gas. It looks great.  It has not let me down.  I wouldn't trade it for another.....Unless it was a newer one.  This is my second one. It's all mine.  And it's payed off!\", 'text': 'Neutral'}\n",
      "{'review': \" I've always wanted a V8 Mustang since my dad showed me a certain Steve McQueen movie called Bullitt, I just loved the styling and ferocity of McQueen's highland green '68 fastback GT. Nothing else was cooler.  Then Ford released the '05 model, now that's a Mustang! Well in a nutshell I found a tungsten grey '06 GT auto with 7k on it and bought it. Best decision ever. I love this V8! It's fast and it sounds great, though mine now sports a cold air intake and Pypes Violator exhaust and it turns heads with it's loud rumble.  Also this car is built extremely well. 31k on it and not even a rattle, not a problem. This is one I WILL NOT BE TRADING IN!\", 'text': 'Positive'}\n"
     ]
    }
   ],
   "source": [
    "df['sentiment'] = df['Review'].apply(classify_sentiment)"
   ]
  },
  {
   "cell_type": "code",
   "execution_count": 37,
   "id": "7c31c7f5-250e-430a-bd24-81df36a4e52a",
   "metadata": {},
   "outputs": [
    {
     "name": "stdout",
     "output_type": "stream",
     "text": [
      "                                               Review sentiment\n",
      "0                                  Doesn’t disappoint   Neutral\n",
      "1    I bought mine 4/17 with 98K. Have been wantin...  Negative\n",
      "2    There will always be a 05-09 mustang for sale...  Positive\n",
      "3    I bought my car from an auction I work at ( A...  Positive\n",
      "4    I bought this car spankin new and i still am ...  Positive\n",
      "5    Lots of problems with Ford these days, sensor...  Negative\n",
      "6    Bought mine used 20k on it and have added a S...  Positive\n",
      "7    I bought my preowned 06 a few weeks back and ...  Positive\n",
      "8    I drive 50 miles each way to work and traded ...  Negative\n",
      "9    This car is just awesome.  The 4.6L V8 makes ...  Positive\n",
      "10   Only had car for one week and this car put th...  Positive\n",
      "11   Previous mustang owner (1980) and have had a ...  Positive\n",
      "12   I drive a lot of miles, at least 150/day.  I ...  Positive\n",
      "13   I purchased this Horsey in memory of my dad, ...  Positive\n",
      "14   Dash board rattles, dealer couldn't fix it, f...  Negative\n",
      "15   I drive very little (about 5k miles per year)...   Neutral\n",
      "16   This was my first new car purchase and I real...  Negative\n",
      "17   Nice styling car and fun to drive when it is ...  Negative\n",
      "18   I was exceptionally impressed with the down a...  Negative\n",
      "19   I purchased the Mustang new with every option...  Negative\n",
      "20   09/23/06 I financed a '06 Mustang GT, my 1st ...  Negative\n",
      "21   This car is a blast. I purchased my 06' Perfo...  Positive\n",
      "22   I love to drive the car and to look at the ca...  Negative\n",
      "23   It's noisy. It rides rough.  It's uncomfortab...   Neutral\n",
      "24   I've always wanted a V8 Mustang since my dad ...  Positive\n"
     ]
    }
   ],
   "source": [
    "# Step 7: Check the resulting DataFrame\n",
    "print(df[['Review', 'sentiment']])"
   ]
  },
  {
   "cell_type": "code",
   "execution_count": 38,
   "id": "1efca41d-e975-45a6-ba85-81ec3678c0a7",
   "metadata": {},
   "outputs": [],
   "source": [
    "df.to_csv('updated_file.csv', index=False)"
   ]
  },
  {
   "cell_type": "code",
   "execution_count": 39,
   "id": "eb9e94ab-3d1c-45dd-b328-181bbd9c7874",
   "metadata": {},
   "outputs": [
    {
     "data": {
      "text/html": [
       "<div>\n",
       "<style scoped>\n",
       "    .dataframe tbody tr th:only-of-type {\n",
       "        vertical-align: middle;\n",
       "    }\n",
       "\n",
       "    .dataframe tbody tr th {\n",
       "        vertical-align: top;\n",
       "    }\n",
       "\n",
       "    .dataframe thead th {\n",
       "        text-align: right;\n",
       "    }\n",
       "</style>\n",
       "<table border=\"1\" class=\"dataframe\">\n",
       "  <thead>\n",
       "    <tr style=\"text-align: right;\">\n",
       "      <th></th>\n",
       "      <th>Review_Date</th>\n",
       "      <th>Author_Name</th>\n",
       "      <th>Vehicle_Title</th>\n",
       "      <th>Review_Title</th>\n",
       "      <th>Review</th>\n",
       "      <th>Rating</th>\n",
       "      <th>sentiment</th>\n",
       "    </tr>\n",
       "  </thead>\n",
       "  <tbody>\n",
       "    <tr>\n",
       "      <th>0</th>\n",
       "      <td>on 06/06/18 14:19 PM (PDT)</td>\n",
       "      <td>Vicki</td>\n",
       "      <td>2006 Ford Mustang Coupe GT Premium 2dr Coupe (...</td>\n",
       "      <td>2006 Mustang GT</td>\n",
       "      <td>Doesn’t disappoint</td>\n",
       "      <td>5.0</td>\n",
       "      <td>Neutral</td>\n",
       "    </tr>\n",
       "    <tr>\n",
       "      <th>1</th>\n",
       "      <td>on 08/12/17 06:06 AM (PDT)</td>\n",
       "      <td>Tom</td>\n",
       "      <td>2006 Ford Mustang Coupe V6 Standard 2dr Coupe ...</td>\n",
       "      <td>DREAM CAR</td>\n",
       "      <td>I bought mine 4/17 with 98K. Have been wantin...</td>\n",
       "      <td>3.0</td>\n",
       "      <td>Negative</td>\n",
       "    </tr>\n",
       "    <tr>\n",
       "      <th>2</th>\n",
       "      <td>on 06/15/17 05:43 AM (PDT)</td>\n",
       "      <td>Ray</td>\n",
       "      <td>2006 Ford Mustang Coupe V6 Premium 2dr Coupe (...</td>\n",
       "      <td>Great Ride</td>\n",
       "      <td>There will always be a 05-09 mustang for sale...</td>\n",
       "      <td>5.0</td>\n",
       "      <td>Positive</td>\n",
       "    </tr>\n",
       "    <tr>\n",
       "      <th>3</th>\n",
       "      <td>on 05/18/17 17:33 PM (PDT)</td>\n",
       "      <td>Don Watson</td>\n",
       "      <td>2006 Ford Mustang Coupe V6 Deluxe 2dr Coupe (4...</td>\n",
       "      <td>I have wanted a Mustang for 40 years.</td>\n",
       "      <td>I bought my car from an auction I work at ( A...</td>\n",
       "      <td>5.0</td>\n",
       "      <td>Positive</td>\n",
       "    </tr>\n",
       "    <tr>\n",
       "      <th>4</th>\n",
       "      <td>on 01/03/16 18:03 PM (PST)</td>\n",
       "      <td>One owner</td>\n",
       "      <td>2006 Ford Mustang Coupe GT Premium 2dr Coupe (...</td>\n",
       "      <td>One owner</td>\n",
       "      <td>I bought this car spankin new and i still am ...</td>\n",
       "      <td>5.0</td>\n",
       "      <td>Positive</td>\n",
       "    </tr>\n",
       "  </tbody>\n",
       "</table>\n",
       "</div>"
      ],
      "text/plain": [
       "                   Review_Date  Author_Name  \\\n",
       "0   on 06/06/18 14:19 PM (PDT)       Vicki    \n",
       "1   on 08/12/17 06:06 AM (PDT)         Tom    \n",
       "2   on 06/15/17 05:43 AM (PDT)         Ray    \n",
       "3   on 05/18/17 17:33 PM (PDT)  Don Watson    \n",
       "4   on 01/03/16 18:03 PM (PST)   One owner    \n",
       "\n",
       "                                       Vehicle_Title  \\\n",
       "0  2006 Ford Mustang Coupe GT Premium 2dr Coupe (...   \n",
       "1  2006 Ford Mustang Coupe V6 Standard 2dr Coupe ...   \n",
       "2  2006 Ford Mustang Coupe V6 Premium 2dr Coupe (...   \n",
       "3  2006 Ford Mustang Coupe V6 Deluxe 2dr Coupe (4...   \n",
       "4  2006 Ford Mustang Coupe GT Premium 2dr Coupe (...   \n",
       "\n",
       "                            Review_Title  \\\n",
       "0                        2006 Mustang GT   \n",
       "1                              DREAM CAR   \n",
       "2                             Great Ride   \n",
       "3  I have wanted a Mustang for 40 years.   \n",
       "4                              One owner   \n",
       "\n",
       "                                              Review  Rating sentiment  \n",
       "0                                 Doesn’t disappoint     5.0   Neutral  \n",
       "1   I bought mine 4/17 with 98K. Have been wantin...     3.0  Negative  \n",
       "2   There will always be a 05-09 mustang for sale...     5.0  Positive  \n",
       "3   I bought my car from an auction I work at ( A...     5.0  Positive  \n",
       "4   I bought this car spankin new and i still am ...     5.0  Positive  "
      ]
     },
     "execution_count": 39,
     "metadata": {},
     "output_type": "execute_result"
    }
   ],
   "source": [
    "df.head()"
   ]
  },
  {
   "cell_type": "code",
   "execution_count": null,
   "id": "4b601e24-e3ba-41a0-9f5a-c4d0c685176f",
   "metadata": {},
   "outputs": [],
   "source": []
  },
  {
   "cell_type": "code",
   "execution_count": null,
   "id": "2d5ff647-c1e4-44e5-b3e0-70cfab1140e2",
   "metadata": {},
   "outputs": [],
   "source": []
  }
 ],
 "metadata": {
  "kernelspec": {
   "display_name": "Python 3 (ipykernel)",
   "language": "python",
   "name": "python3"
  },
  "language_info": {
   "codemirror_mode": {
    "name": "ipython",
    "version": 3
   },
   "file_extension": ".py",
   "mimetype": "text/x-python",
   "name": "python",
   "nbconvert_exporter": "python",
   "pygments_lexer": "ipython3",
   "version": "3.11.7"
  }
 },
 "nbformat": 4,
 "nbformat_minor": 5
}
